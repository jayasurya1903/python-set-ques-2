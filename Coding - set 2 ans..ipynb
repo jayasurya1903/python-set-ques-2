{
 "cells": [
  {
   "cell_type": "code",
   "execution_count": 5,
   "id": "aba1475d",
   "metadata": {},
   "outputs": [],
   "source": [
    "#1.Write a Python program to find the reverse of a string. Expected Output (for input \"hello\"):\n",
    "#olleh\n"
   ]
  },
  {
   "cell_type": "code",
   "execution_count": 6,
   "id": "e40cc65b-cc4c-4b08-ad4d-743f9e1de0b3",
   "metadata": {},
   "outputs": [
    {
     "name": "stdout",
     "output_type": "stream",
     "text": [
      "olleh\n"
     ]
    }
   ],
   "source": [
    "reverse = \"hello\"\n",
    "print(reverse[::-1])"
   ]
  },
  {
   "cell_type": "code",
   "execution_count": 7,
   "id": "5b1ec143",
   "metadata": {},
   "outputs": [],
   "source": [
    "#2.Write a Python program to generate the Fibonacci sequence up to 10 terms.\n",
    "#Expected Output:\n",
    "#0 1 1 2 3 5 8 13 21 34\n",
    "\n"
   ]
  },
  {
   "cell_type": "code",
   "execution_count": 8,
   "id": "99431be8-23ce-4e17-a9d4-59a58959fa8c",
   "metadata": {},
   "outputs": [
    {
     "name": "stdout",
     "output_type": "stream",
     "text": [
      "0 1 1 2 3 5 8 13 21 34 "
     ]
    }
   ],
   "source": [
    "num = 10\n",
    "a, b = 0, 1\n",
    "for _ in range(num):\n",
    "    print(a, end=\" \")\n",
    "    a, b = b, a + b\n"
   ]
  },
  {
   "cell_type": "code",
   "execution_count": 9,
   "id": "cd7b0a78",
   "metadata": {},
   "outputs": [],
   "source": [
    "\n",
    "\n",
    "#4.Write a Python program to count the number of vowels in a given string. \n",
    "#Expected Output (for input \"education\"):\n",
    "\n",
    "#Number of vowels: 5\n",
    "    "
   ]
  },
  {
   "cell_type": "code",
   "execution_count": 10,
   "id": "9d938f61-102c-4208-88c8-20909fce6898",
   "metadata": {},
   "outputs": [
    {
     "name": "stdout",
     "output_type": "stream",
     "text": [
      "Number of vowels: 5\n"
     ]
    }
   ],
   "source": [
    "input_string = \"education\"\n",
    "vowels = \"aeiou\"\n",
    "count = 0\n",
    "for char in input_string.lower():  \n",
    "    if char in vowels:\n",
    "        count += 1\n",
    "\n",
    "print(\"Number of vowels:\", count)\n"
   ]
  },
  {
   "cell_type": "code",
   "execution_count": 11,
   "id": "c656f04a",
   "metadata": {},
   "outputs": [],
   "source": [
    "#3.Write a Python function to check if a given string is a palindrome.\n",
    "#Expected Output (for input \"madam\"):\n",
    "#madam is a palindrome\n",
    "\n"
   ]
  },
  {
   "cell_type": "code",
   "execution_count": 12,
   "id": "afd13e0c-fdb0-4a02-bb21-9b37ed32cce5",
   "metadata": {},
   "outputs": [
    {
     "name": "stdout",
     "output_type": "stream",
     "text": [
      "madam is a palindrome\n"
     ]
    }
   ],
   "source": [
    "def is_palindrome(pal):\n",
    "    if pal == pal[::-1]:\n",
    "        print(\"madam is a palindrome\")\n",
    "    else:\n",
    "        print(\"madam is not a palindrome\")\n",
    "        \n",
    "is_palindrome(\"madam\")\n"
   ]
  },
  {
   "cell_type": "code",
   "execution_count": 13,
   "id": "bdbb9b19",
   "metadata": {},
   "outputs": [],
   "source": [
    "#5.Write a Python program to remove duplicates from a list.\n",
    "#Expected Output (for input [1, 2, 2, 3, 4, 4, 5]):\n",
    "\n",
    " #[1, 2, 3, 4, 5]\n"
   ]
  },
  {
   "cell_type": "code",
   "execution_count": 14,
   "id": "9a32fa93-04a6-4b90-b34d-a1969a61ca7c",
   "metadata": {},
   "outputs": [
    {
     "name": "stdout",
     "output_type": "stream",
     "text": [
      "[1, 2, 3, 4, 5]\n"
     ]
    }
   ],
   "source": [
    "lst = [1, 2, 2, 3, 4, 4, 5]\n",
    "dup= list(set(lst))\n",
    "print(dup)"
   ]
  }
 ],
 "metadata": {
  "kernelspec": {
   "display_name": "Python 3 (ipykernel)",
   "language": "python",
   "name": "python3"
  },
  "language_info": {
   "codemirror_mode": {
    "name": "ipython",
    "version": 3
   },
   "file_extension": ".py",
   "mimetype": "text/x-python",
   "name": "python",
   "nbconvert_exporter": "python",
   "pygments_lexer": "ipython3",
   "version": "3.13.5"
  }
 },
 "nbformat": 4,
 "nbformat_minor": 5
}
